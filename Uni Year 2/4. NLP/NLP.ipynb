{
 "cells": [
  {
   "cell_type": "markdown",
   "id": "4ef289db-6ef9-48a6-9a59-d57ecd7e359b",
   "metadata": {},
   "source": [
    "## COURSEWORK 2 Natural Language Processing\n",
    "\n",
    "### CS-265/CSC325 Artificial Intelligence\n",
    "\n",
    "### Dr Adam Wyner\n",
    "\n",
    "**Released: Friday 21 March 2025.**\n",
    "\n",
    "**Due: Thursday 07 April 2025, 14:00.**\n",
    "\n",
    "This is a hard deadline and set in relation to other submission deadlines.\n",
    "\n",
    "Read and think through the whole coursework before starting to program. Review the NLP lectures and labs. See it as engineering a language mechanism, which you can experiment with and develop. The focus is on how features are used at different points in the grammar and lexicon to control well-formedness.\n",
    "\n",
    "Follow the instructions fully and accurately. Marks are taken off for wrong or missing answers.\n",
    "\n",
    "**Address the following in the coursework**\n",
    "\n",
    "1.\tWrite a DCG which parses input sentences and outputs a parse.\n",
    "2.\tThe DCG must parse sentences with the following features. Some of the features can be found in the lectures and labs, while others are introduced here.\n",
    ">\n",
    "        a.  Transitive and intransitive verbs\n",
    "        b.  Propositional attitude verbs.\n",
    "        c.  Common nouns\n",
    "        d.  Determiners\n",
    "        e.  Singular/plural nouns\n",
    "        f.  Subject-verb agreement for number\n",
    "        g.  Determiner-common noun number agreement\n",
    "        h.  Sentential connectives - negation, conjunction, disjunction, and conditional\n",
    "        i.  Clausal connectives - conjunction, disjunction\n",
    ">\n",
    "4.\tThe DCG should separate grammar and lexicon. The lexicon must be included in your code and include all the words and word forms in the lexicon below or those you should add to the lexicon.\n",
    "5.\tThe sample outputs (below) should be carefully studied and emulated by the parser. It must be emphasised that the outputs are phrase structures of the input sentence; it is not sufficient just to recognise if a sentence is well-formed according to the grammar. Output that misses categories and parsing structures will be marked down. While there may be different ways to write the grammar, the input and output must be precise and fixed, as the results will be automatically checked. If the output does not match the intended output, you can be marked down on that output. Some of the tests below should help achieve the correct forms.\n",
    "\n",
    "### Main topic\n",
    "\n",
    "While parsing various sentences is the general topic, the more specific topic relates to the **sentential and clausal connectives**. This introduces some complexity, as discussed below. Therefore, complexity elsewhere in the grammar has been reduced."
   ]
  },
  {
   "cell_type": "markdown",
   "id": "9ec6d48f-ebb1-49b8-b3cb-d4fad2958e7b",
   "metadata": {},
   "source": [
    "### Demonstration of Work\n",
    "\n",
    "To demonstrate that your code works as intended, your code should correctly give the parse trees for the grammatical sentences in the list of test sentences (below) and fail for the ungrammatical sentences. In the list of test sentences below, an ungrammatical sentence is indicated with a * next to it, for example, **the men sees the apples* is ungrammatical. We are not concerned with capitalisation or punctuation.  For each sentence in the list of test sentences, query your parser; if the sentence is ungrammatical, the output should be false/fails; if the sentence is grammatical, the outputs should be the correct parse. An exception in your program means there is a problem and no marks are given; try to correct for such exceptions.\n",
    "\n",
    "Generally, if issues or problems arise, report these in a discussion section.\n",
    "\n",
    "Your grammar should at least parse and provide the phrase structure for every sentence in the test sentences (below). As well, for evaluation, there will be unseen sentences that your grammar should parse and generate the phrase structure or fail to parse, given the instructions and the lexicon.\n",
    "\n",
    "There are extensions that you are to make to the lexicon - read the instructions carefully all the way through to fully understand what needs to be done.\n",
    "\n",
    "### Submission\n",
    "\n",
    "Your coursework should be submitted as a notebook to the Jupyter Notebook server, just as has been done with the labs so far. The grammars in the notebooks will be automatically run and tested using NBGrader. That is, we will run your grammar against all the seen test sentences as well as unseen sentences that your grammar should parse or fail to parse given the instructions and the lexicon.\n",
    "\n",
    "### Discussion\n",
    "\n",
    "If you are inclined to engage with further discussion, issues, work on other examples, make observations, add further extensions, or even other languages, you are welcome to share it in discussion sections in your notebook (in markdown or raw cells). There is no additional mark per se. You will get remarks in return from the lecturer.\n",
    "\n",
    "### Marking Scheme\n",
    "\n",
    "The mark for the coursework counts as 15% of the module mark. Below, there will be *seen* and *unseen* tests. The examples and the seen tests are intended to help direct you to the developing your grammar. For the seen tests, if the parse is correct, it will output *true* or *test succeeded*; if it is not correct, then the output will be the expected parse and the one resulting from your grammar. This ought to help you revise your grammar **before** submitting it to NBGrader. There are also unseen examples, which further test your grammar.\n",
    "\n",
    "The 20 seen tests are marked .5 per test for each correct result and 0 otherwise.\n",
    "The 20 unseen tests are marked 2 per test for each correct result and 0 otherwise.\n",
    "There are no partial marks."
   ]
  },
  {
   "cell_type": "markdown",
   "id": "666706c3-2bb9-486c-ac3a-c13bc487cd35",
   "metadata": {},
   "source": [
    "### Modeling the Sample Inputs and Parses\n",
    "\n",
    "Below, in different sections, you will find cells with sample model inputs and outputs. The grammar that is producing these results is unavailable to you. The outputs highlight the categories and structures that your grammar should recognise and output their structure. The output in the examples should be carefully studied and emulated by your grammar. In other words, the outputs for your grammar ought to match the output from our grammar for both the seen and unseen sentences. Output that misses categories and parsing structures will be marked down.\n",
    "\n",
    "The examples also illustrate the predicate that can be called. It is essential that you use the form of this predicate and that your grammar produce these outputs in these forms."
   ]
  },
  {
   "cell_type": "markdown",
   "id": "b07c1eee-0481-44a5-b225-03414bdfdc9a",
   "metadata": {},
   "source": [
    "### Hint\n",
    "\n",
    "Construct your grammar starting from what you know and have available (lectures and labs). Look at the available examples as models. Test the grammar at every stage. Add constructions as you go. The descriptions and seen examples are to be used by you in the construction of your grammar, which will be done at the end. The unseen examples will be tested once you have your grammar."
   ]
  },
  {
   "cell_type": "markdown",
   "id": "c6c9d4f5-5d8d-4664-8fad-0e6647d1e33a",
   "metadata": {},
   "source": [
    "### Comments\n",
    "\n",
    "The focus of the grammar in the coursework is on how features are used to *guide* well-formedness of parses.\n",
    "\n",
    "Your grammar ought to provide only one parse for each input sentence. Check that it makes sense given the specification. If there is more than one parse, there is something to revise in your grammar.\n",
    "\n",
    "There should not be any *long parses*, indicated with *...*; our benchmark grammar does not produce this.\n",
    "\n",
    "The length of the parses should be proportional to the length of the input sentence. If you have very long parses for a relatively short sentence, then something is wrong with your grammar.\n",
    "\n",
    "The grammar you are writing should output the parse of the relevant sentences with the relevant structure; there are others on which it should fail.\n",
    "\n",
    "There is further presentation below about what to expect in the grammar. You may notice, if you try some of your own experiments (which is always worth doing), that there are some odd or ungrammatical sentences that this grammar parses.\n",
    "\n",
    "A grammar is a theory which you can develop and evaluate incrementally with respect to the data. Writing a large scale grammar for a fragment of natural language must take into account a range of phenomena. This coursework only covers a little of this. Going *hard core* in the world of computational linguistic parsing and semantic representation means facing lots of hard, complex, and very interesting issues of natural language.\n",
    "\n",
    "In general, your notebook should include this notebook material and the additions that you make, whichi will be your grammar and any additional discussion notes you make. There should be no further Prolog directives (those lines that start with :) or Prolog predicates not part of the grammar and lexicon.\n",
    "\n",
    "#### Analysis of Language - English\n",
    "\n",
    "The coursework exemplifies the phenomena and asks for a theory (a grammar which parses the sentences) using *English*. The only reason for this is that it is the language of the learning community at Swansea University. The phenomena outlined below are relatively straightforward, but there are issues that might arise. *Everything you need to know should be explained in this notebook about the English constructions that are needed. If you have an issue or question, please contact the lecturer, who would be happy to explain.* So, students who are \"native English speakers\" have no special advantage over students from whom English is a second language. One day it would be nice to do courseworks in other languages.\n",
    "\n",
    "Another relevant point is that the phenomena pointed out in the coursework arise in similar or related forms in other languages; that is, we aren't \"really\" representing *English*, but rather more general linguistic phenomena. To see this, you might consider the observations below into some language of your choice, though that is outside the scope of the coursework.\n",
    "\n",
    "#### Representing and Formalising Human Knowledge\n",
    "\n",
    "A general theme of the module is the representation, formalisation, and implementation of some aspect of human knowledge. This implies that we first have to understand the domain along with some guidance about how to formalise and implement that formalisation. Following this, we can evaluate the implementation. In that, the exercise follows familiar *software engineeering* practice. So, while the coursework focuses on linguistic knowledge, the general idea applies to other problems and domains.\n",
    "\n",
    "#### Overgeneration\n",
    "\n",
    "Related to the previous point, one key aspect of approaching analysis and implementation of some domain relates to overgeneration. Recall that one can use a grammar to: *recognise* and *parse* well-formed expressions; *generate* well-formed expressions from the grammar. One can write a grammar what generates some simple expressions that make sense and are ungrammatical, but can also create some other more complex sentences that might be odd, not make sense, or are ungrammatical. In other words, while the grammar generates all and only the well-formed expressions *of that grammar*, some of those expressions might not be what one wants, which is the benchmark for assessment. This is the problem of *overgeneration*, which indicates that the grammar needs to be revised in one way or the other, whether by changing some grammar rules or by constraining the output in one way or another. We see such an issue in the section on sentences with conjoined noun phrases.\n"
   ]
  },
  {
   "cell_type": "markdown",
   "id": "a9c79c9b-c11d-4751-8a6f-c68f3b798991",
   "metadata": {},
   "source": [
    "### Verbs: transitive and intransitive,\n",
    "\n",
    "The basic lexicon has verbs which are transitive (`push`, `follow`) and intransitive (`run`, `jump`). The verbs are given in two different forms for singular and plural noun agreement; for example, `pushes` agrees with a singular noun subject, `A woman pushes a man`, while `push` agrees with a plural noun subject, `The women push a man`.\n",
    "\n",
    "The transitive verbs take a direct object, but there is no number agreement (in English) between a verb and its object."
   ]
  },
  {
   "cell_type": "markdown",
   "id": "c0e205da-44a3-4719-b111-0b577cbc79aa",
   "metadata": {},
   "source": [
    "### Common nouns in singular and plural forms.\n",
    "\n",
    "There are common nouns in singluar and plural forms - `woman`, `women`, `man`, `men`. A common noun is in contrast to a proper noun, which is a name, e.g., `jill` or `bill`. A key difference is that common nouns can be quantified (used together with a determiner) and proper nouns cannot. The coursework only uses common nouns.\n",
    "\n"
   ]
  },
  {
   "cell_type": "markdown",
   "id": "8cab0a3f-1e8c-4b4a-adde-080c3b00aa84",
   "metadata": {},
   "source": [
    "### Determiners\n",
    "\n",
    "Determiners (also known as *quantifiers*) are used to indicate the number of instances of a common noun. The coursework uses `no`, `two`, `the`, and `a`. `no women jump` means there are no women who jump; `two women jump` means only two women jump; `the woman jumps` means a specific woman jumps; and `a woman jumps` means that at least one woman jumps.\n",
    "\n",
    "*Aside* Determiners is an extremely rich and diverse area of study in formal linguistics with complex formal properties and behaviours. It is striking that people intuitively *know* and *use* these properties and behaviours, though they are not explicitly taught nor widespread in data. The coursework only touches on these topics.\n"
   ]
  },
  {
   "cell_type": "markdown",
   "id": "c90046c1-8cf7-47f5-a7e4-b6ef342eb778",
   "metadata": {},
   "source": [
    "### Determiner-common noun number agreement\n",
    "\n",
    "We have verbs, common nouns, and determiners. Consider issues about their combination.\n",
    "\n",
    "In the following, we have well-formed expressions; these are plural:\n",
    "\n",
    "    no women\n",
    "    two women\n",
    "    the women\n",
    "\n",
    "The following are well-formed; these are singular:\n",
    "\n",
    "    no woman\n",
    "    a woman\n",
    "    the woman\n",
    "\n",
    "However, the following are ill-formed (ungrammatical):\n",
    "\n",
    "    *two woman\n",
    "    *a women\n",
    "\n",
    "`two` can only agree with a plural common noun; `a` can only agree with a singular common noun. The other determiners, `no` and `the` can agree with either a plural or a singular common noun. So, there are constraints on number agreement between a determiner and a common noun."
   ]
  },
  {
   "cell_type": "markdown",
   "id": "dd762f52-e46e-4f99-b2d4-5602f7351745",
   "metadata": {},
   "source": [
    "### Examples\n",
    "\n",
    "Below, you will find several examples of grammatical and ungrammatical input and output.\n",
    "\n",
    "If you want to evaluate your grammar, you can copy the queries to a code block and execute. Then you can check if your output matches the examples. The examples are also part of the seen tests below. This helps you to see how you are doing in the development of your grammar."
   ]
  },
  {
   "cell_type": "raw",
   "id": "ebd2953c-7d06-49e2-9744-cd4114dc8f94",
   "metadata": {},
   "source": [
    "s(Tree, [a,woman,jumps],[]).\n",
    "Tree = s(np(det(a),n(woman)),vp(v(jumps)))"
   ]
  },
  {
   "cell_type": "raw",
   "id": "b5492b6f-60ea-47b8-a61c-dfbd1da9acfb",
   "metadata": {},
   "source": [
    "s(Tree, [a,woman,jump],[]).\n",
    "false"
   ]
  },
  {
   "cell_type": "raw",
   "id": "c1a89930-6435-4696-9ca7-ae1d08b6a4cc",
   "metadata": {},
   "source": [
    "s(Tree, [a,women,jump],[]).\n",
    "false"
   ]
  },
  {
   "cell_type": "raw",
   "id": "dde95e60-efc3-42c0-bf3b-97b291f4d2e8",
   "metadata": {},
   "source": [
    "s(Tree, [no,women,follow,the,man],[]).\n",
    "Tree = s(np(det(no),n(women)),vp(v(follow),np(det(the),n(man))))"
   ]
  },
  {
   "cell_type": "markdown",
   "id": "df261a39-ce90-45ad-aa4a-c81fde39e36c",
   "metadata": {},
   "source": [
    "### Sentential connectives: negation, conjunction, disjunction, and conditional\n",
    "\n",
    "We have sentence connectives such as `and`, `or`, `not` (this should be taken as an abbreviation for sentential negation in the form of `it is not the case that`), and `if Ss then S2`. We've seen these for Propositional Logic.\n",
    "\n",
    "Suppose the sentences:\n",
    "\n",
    "    a woman jumps\n",
    "    a man runs\n",
    "\n",
    "These can be combined as follows:\n",
    "\n",
    "    a woman jumps and a man runs\n",
    "    a woman jumps or a man runs\n",
    "    if a woman jumps then a man runs\n",
    "    not a man runs\n",
    "\n",
    "Note that `not a man runs` is an abbreviation for `it is not the case that a man runs`.\n",
    "\n",
    "The sentential connectives can be used with sentences that have intransitive, transitive, or propositional attitude verbs.\n",
    "\n",
    "As we know from Propositional Logic, we can have rather complex sentences formed using the connectives. As our focus is just on parsing simple sentences, we overlook issues such as if the complex sentences make *sense* or are *used*; that is, we are considering some *formal* aspects of language, not how language is used.\n",
    "\n",
    "The following are grammatical:\n",
    "\n",
    "    a woman jumps and a man runs and two woman run\n",
    "    if a woman jumps then a man runs and the men jump\n",
    "    not a man runs and a woman jumps\n",
    "\n",
    "The following are ungrammatical:\n",
    "\n",
    "    *a woman jumps and if a man runs and two woman run\n",
    "    *not a woman jumps a man runs\n",
    "    *if not a man runs and a woman jumps\n",
    "\n",
    "*Aside* Even with this rather simple presentation, there are issues lurking beneath the surface about *scope* and *interpretation*, which we will not look at in the coursework. For example, in `not a woman runs or a man jumps`, what is being negated (that is, what is the scope of negation) - `a woman runs` vs. `a woman runs or a man jumps`. The parsing will partially address this, but there is more to say. Or, for example, in `a woman runs and then a man jumps` suggests some sequence of actions; the word `then` here is interpreted in relation to time, which is different from the `then` in the conditional. Again, these are just observations, which are not addressed in the coursework."
   ]
  },
  {
   "cell_type": "markdown",
   "id": "1ff276dc-125d-4145-b4eb-bbb233172c56",
   "metadata": {},
   "source": [
    "### Examples\n",
    "\n",
    "In this section, you see the output for several of the constructions outlined above."
   ]
  },
  {
   "cell_type": "raw",
   "id": "f8856940-e0a7-4d41-a7b2-39a8ca8f827a",
   "metadata": {},
   "source": [
    "s(Tree, [not,a,woman,jumps],[]).\n",
    "Tree = s(negS(not),s(np(det(a),n(woman)),vp(v(jumps))))"
   ]
  },
  {
   "cell_type": "raw",
   "id": "bd8d9a12-942f-4b2c-bfb4-72c7502c2957",
   "metadata": {},
   "source": [
    "s(Tree, [a,woman,not,jumps],[]).\n",
    "false"
   ]
  },
  {
   "cell_type": "raw",
   "id": "c4124d2d-958f-4e0d-883d-75cc6a019fc2",
   "metadata": {},
   "source": [
    "s(Tree, [a,woman,jumps,and,the,man,follows,a,man],[]).\n",
    "Tree = s(s(np(det(a),n(woman)),vp(v(jumps))),conj(and),s(np(det(the),n(man)),vp(v(follows),np(det(a),n(man)))))"
   ]
  },
  {
   "cell_type": "raw",
   "id": "7bf4d7eb-14e9-4f06-b90d-aaafedd64a54",
   "metadata": {},
   "source": [
    "s(Tree, [a,woman,jumps,or,the,man,jumps],[]).\n",
    "Tree = s(s(np(det(a),n(woman)),vp(v(jumps))),conj(or),s(np(det(the),n(man)),vp(v(jumps))))"
   ]
  },
  {
   "cell_type": "raw",
   "id": "1553c56e-85b8-426a-aec3-2e25928747a7",
   "metadata": {},
   "source": [
    "s(Tree, [a,woman,jumps,or],[]).\n",
    "false"
   ]
  },
  {
   "cell_type": "raw",
   "id": "52eafe48-6218-4527-8945-98afc0e6a66e",
   "metadata": {},
   "source": [
    "antS(Tree, [if,a,woman,jumps],[]).\n",
    "Tree = s(antI(if),s(np(det(a),n(woman)),vp(v(jumps))))"
   ]
  },
  {
   "cell_type": "raw",
   "id": "bbec5a76-abb9-485e-9fbd-0c14de667840",
   "metadata": {},
   "source": [
    "conS(Tree, [then,a,woman,jumps],[]).\n",
    "Tree = s(conI(then),s(np(det(a),n(woman)),vp(v(jumps))))"
   ]
  },
  {
   "cell_type": "raw",
   "id": "8e459398-304b-4575-9ecf-a3028f804b07",
   "metadata": {},
   "source": [
    "s(Tree, [if,a,woman,jumps,then,a,man,runs],[]).\n",
    "Tree = s(s(antI(if),s(np(det(a),n(woman)),vp(v(jumps)))),s(conI(then),s(np(det(a),n(man)),vp(v(runs)))))"
   ]
  },
  {
   "cell_type": "raw",
   "id": "d17d4cef-8ef8-423a-9aba-47da438492f9",
   "metadata": {},
   "source": [
    "s(Tree, [a,woman,jumps,then,a,man,runs],[]).\n",
    "false"
   ]
  },
  {
   "cell_type": "markdown",
   "id": "192ea94b-2374-468e-bb4f-3e6b4ae52c72",
   "metadata": {},
   "source": [
    "### Clausal connectives: conjunction and disjunction\n",
    "\n",
    "We also have clausal connectives such as `and` and `or`. The sentential connectives for negation and conditional are not clausal connectives. Clausal connectives are not usually discussed in introductions to Predicate Logic, but the intuitions are clear.\n",
    "\n",
    "Consider the sentences:\n",
    "\n",
    "    a woman jumps and runs\n",
    "    a man runs or jumps\n",
    "    two men jump and run\n",
    "    no woman jumps or runs\n",
    "    no women jump or run\n",
    "    the woman jumps or runs\n",
    "    the women jump or run\n",
    "\n",
    "Here two verbs (actually verb phrases) are connected. In the first, a woman does both actions; in the second, a man does one, the other, or both actions; in the third, exactly two men do both; in the fourth and fifth no one does anything (and notice singular or plural work).\n",
    "\n",
    "In contrast, the following are ungrammatical:\n",
    "\n",
    "    *a man jump and run\n",
    "    *a woman jumps and run\n",
    "    *two men jump and runs\n",
    "    *two men jumps and runs\n",
    "    *no woman jump or run\n",
    "    *no women jumps or runs\n",
    "    *the woman jumps and run\n",
    "\n",
    "One observation here is that *both* verbs must agree in number with the subject. If neither agrees with the subject (`a man jump and run`) or one verb agrees with the subject and the other does not (`a woman jumps and run` or `two men jump and runs`), then the sentence is ungrammatical.\n",
    "\n",
    "The following are also grammatical, where we have a clausal connective on the noun phrases:\n",
    "\n",
    "    a man and a woman jump\n",
    "    a man or a woman jump\n",
    "    two men or two women run\n",
    "    two women or a man run\n",
    "    no man and no woman jump\n",
    "    the man and the woman jump\n",
    "\n",
    "We can *paraphase* the meaning of these as (respectively):\n",
    "\n",
    "    a man jumps and a woman jumps\n",
    "    a man jumps or a woman jumps\n",
    "    two men run or two women run\n",
    "    two women run or a man runs\n",
    "    no man jumps and no woman jumps\n",
    "    no men jump and no women jump\n",
    "\n",
    "Notice the difference between the examples `two women or a man run` and `two women run or a man runs`. There is a shift in number agreement.\n",
    "\n",
    "However, the following are ungrammatical:\n",
    "\n",
    "    *two women or a man runs\n",
    "    *no woman or two men runs\n",
    "\n",
    "The last two observations show that *the verb has to agree in number with the number of the combined noun phrase, not just one part or the other*. We turn to this next.\n",
    "\n",
    "One other point, all the examples of conjoined noun phrases show them in subject position in the sentence. The conjoined noun phrases can also appear in object position of a transitive verb.\n",
    "\n",
    "    a woman follows the man and the woman"
   ]
  },
  {
   "cell_type": "markdown",
   "id": "c817ce2e-f9df-4ba0-8e50-98adb2d61be6",
   "metadata": {},
   "source": [
    "### Subject-verb agreement for number of conjoined NPs\n",
    "\n",
    "Here we elaborate further on the last two observations. First we make it a bit more complex. Then we propose an approach.\n",
    "\n",
    "Consider that we have: two types of common nouns (singular and plural), two types of determiners (singular and plural as well as those which go either way), clausal connectives (conjunction and disjunction over noun phrases or verb phrases), and two types of verbs (singular and plural). We focus on number agreement. These variants can create several sentence forms, as in evidence above. Some have clear intuitions, some less so, particularly the more complex the sentences.\n",
    "\n",
    "Considering simple examples, we saw above that the noun subject and the conjoined (or disjoined) verb phrases must agree in number. We saw grammatical examples above, which contrast with the following ungrammatical sentences:\n",
    "\n",
    "    *a woman jump and run\n",
    "    *two men jumps and runs\n",
    "\n",
    "Furthermore, the connected noun phrase must agree in number with the verb. We saw grammatical examples above, which contrast with the following ungrammatical sentences:\n",
    "\n",
    "    *a man and a woman jumps\n",
    "    *a man or a woman jumps\n",
    "\n",
    "These examples are a bit easier as we have the same determiner.\n",
    "\n",
    "Things become a bit less clear when we have two determiners and a difference betwen `and` and `or`. Question mark `?` indicates something to discuss. For example:\n",
    "\n",
    "    two women and a man run\n",
    "    *two women and a man runs\n",
    "    ?a woman and no men run\n",
    "    ?a woman and no men runs\n",
    "\n",
    "    two women or a man run\n",
    "    *two women or a man runs\n",
    "    ?a woman or no men run\n",
    "    ?a woman or no men runs\n",
    "\n",
    "What makes some of these questionable (even if the form and question is simple) is particularly with `or`, since we appear to have a choice of which noun phrase is chosen.\n",
    "\n",
    "If we consider a template, there lots of combinations:\n",
    "\n",
    "    Det1 Noun1 Connective Det2 Noun2 VP1 Connective VP2\n",
    "\n",
    "Some of the results of instantiating the template will be straightforward. But others less so. There is, in fact, much more to discuss about the determiners and about `or`. However, the point of the coursework is not to address them all, though you are welcome to write a discussion note in your notebook.\n",
    "\n",
    "We need to may some simplifying assumptions, even if at the cost of some unclear sentences.\n",
    "\n",
    "**Assumption 1:** *two noun phrases that are connected (by `and`, `or`) always have plural number, even if each of the noun phrases have a different number*\n",
    "\n",
    "**Assumption 2:** *two verb phrases that are connected (by `and`, `or`) must agree in number*\n",
    "\n",
    "The second assumption is easier to see, as in the examples above. The first assumption simplifies the examples.\n",
    "\n",
    "    two women and a man run\n",
    "    grammatical as: [two women (plural) and a man (singular)](plural) run\n",
    "    *two women and a man runs\n",
    "    ungrammatical as: the number on the whole noun phrase is plural and the verb is singular.\n",
    "\n",
    "Questionable sentences (with `or`) we resolve in the same way, whether we have perfect intuitions or not (or some alternative analysis).\n",
    "\n",
    "    a woman or no men run\n",
    "    *a woman or no men runs\n",
    "\n",
    "*Aside* The point of the above discussion is to introduce some further complex issues, while yet providing a way forward in the coursework."
   ]
  },
  {
   "cell_type": "markdown",
   "id": "d9494f4c-f084-4326-aa32-46423f71917b",
   "metadata": {},
   "source": [
    "### Examples\n",
    "\n",
    "For this section, we have several examples."
   ]
  },
  {
   "cell_type": "raw",
   "id": "36617e34-9653-4061-a221-18439cdca2b8",
   "metadata": {},
   "source": [
    "s(Tree, [two,women,and,two,men,run],[]).\n",
    "Tree = s(np(np(det(two),n(women)),conj(and),np(det(two),n(men))),vp(v(run)))"
   ]
  },
  {
   "cell_type": "raw",
   "id": "75ae268c-3a37-4e0c-8e24-4f4f66776798",
   "metadata": {},
   "source": [
    "s(Tree, [two,women,and,a,man,run],[]).\n",
    "Tree = s(np(np(det(two),n(women)),conj(and),np(det(a),n(man))),vp(v(run)))"
   ]
  },
  {
   "cell_type": "raw",
   "id": "a67a49fc-2746-4231-8a74-35e0b158c3c7",
   "metadata": {},
   "source": [
    "s(Tree, [two,women,and,a,man,runs],[]).\n",
    "false"
   ]
  },
  {
   "cell_type": "raw",
   "id": "c324ddf1-343a-43e4-b662-b0cab7863e2a",
   "metadata": {},
   "source": [
    "s(Tree, [two,women,and,no,men,run],[]).\n",
    "Tree = s(np(np(det(two),n(women)),conj(and),np(det(no),n(men))),vp(v(run)))"
   ]
  },
  {
   "cell_type": "markdown",
   "id": "671c62b8-e997-4768-aef4-8b27a151d965",
   "metadata": {},
   "source": [
    "### Recursion\n",
    "\n",
    "It is worth nothing that the grammar will be recursive. This can lead to looping, which was discussed in the lecture and the lab. As was pointed out, it is not attractive to create new grammatical categories to hinder looping. The lab in particular discussed how to use *tabling* to address recursion. You will need tabling as well.\n",
    ">\n",
    "    :- table np/4.\n",
    "    :- table vp/4.\n",
    "    :- table s/3.\n",
    ">\n",
    "\n",
    "These should be added at the top of your grammar.\n",
    "\n",
    "This also implies that the constructions you work with could be rather complex - several clauses with connectives."
   ]
  },
  {
   "cell_type": "markdown",
   "id": "fb05e528-4047-4391-a49f-46d126be2eee",
   "metadata": {},
   "source": [
    "### Examples\n",
    "\n",
    "Consider the following examples for more complex constructions.\n",
    "\n",
    "*Aside* There are some things to discuss about such longer expressions in terms of scope. But, that is not a matter for this coursework."
   ]
  },
  {
   "cell_type": "raw",
   "id": "c8d050aa-7c10-4c03-a3d5-60cbe2b4eac9",
   "metadata": {},
   "source": [
    "s(Tree, [a,woman,jumps,and,a,man,runs,and,two,women,run],[]).\n",
    "Tree = s(s(np(det(a),n(woman)),vp(v(jumps))),conj(and),s(s(np(det(a),n(man)),vp(v(runs))),conj(and),s(np(det(two),n(women)),vp(v(run)))))"
   ]
  },
  {
   "cell_type": "raw",
   "id": "1b1f2f4b-717c-480c-a6c2-50184a2b23e8",
   "metadata": {},
   "source": [
    "s(Tree, [a,woman,follows,a,man,and,pushes,the,woman],[]).\n",
    "Tree = s(np(det(a),n(woman)),vp(vp(v(follows),np(det(a),n(man))),conj(and),vp(v(pushes),np(det(the),n(woman)))))"
   ]
  },
  {
   "cell_type": "raw",
   "id": "fe962786-bc2d-4e9e-ba03-48e85edc1e40",
   "metadata": {},
   "source": [
    "s(Tree, [a,woman,or,the,men,follow,a,man,and,pushes,the,woman],[]).\n",
    "false"
   ]
  },
  {
   "cell_type": "markdown",
   "id": "9c7c5340-8cc0-41f5-95cd-40d12cb79269",
   "metadata": {},
   "source": [
    "### Lexicon code cell\n",
    "\n",
    "Below you have the lexicon that you must use.\n",
    "\n",
    "The following is the lexicon that you must use. **Do not change this lexicon and do not add any lex entries elsewhere in this notebook.**\n",
    "\n",
    "**If you want to add to the lexicon or further experiment with creating DCG rules, you should do so in an notebook of your own**.\n"
   ]
  },
  {
   "cell_type": "code",
   "execution_count": 1,
   "id": "4b3a5ff0-faea-4d5c-bdbe-e4ba2c52344b",
   "metadata": {
    "deletable": false,
    "editable": false,
    "nbgrader": {
     "cell_type": "code",
     "checksum": "a2f64f5f19836ab780d9b2e2c1e5ee1d",
     "grade": false,
     "grade_id": "cell-c497b9775aabb356",
     "locked": true,
     "schema_version": 3,
     "solution": false,
     "task": false
    },
    "vscode": {
     "languageId": "prolog"
    }
   },
   "outputs": [
    {
     "data": {
      "text/plain": [
       "% Asserting clauses for user:lex/3\n"
      ]
     },
     "metadata": {},
     "output_type": "display_data"
    },
    {
     "data": {
      "text/plain": [
       "% Asserting clauses for user:lex/2\n"
      ]
     },
     "metadata": {},
     "output_type": "display_data"
    }
   ],
   "source": [
    "% As you see, the lexicon is small, which makes it very manageable.\n",
    "\n",
    "%%% Common Nouns\n",
    "\n",
    "lex(man,n,singular).\n",
    "lex(woman,n,singular).\n",
    "\n",
    "lex(men,n,plural).\n",
    "lex(women,n,plural).\n",
    "\n",
    "%%% Transitive Verbs\n",
    "\n",
    "lex(pushes,tv,singular).\n",
    "lex(push,tv,plural).\n",
    "lex(follows,tv,singular).\n",
    "lex(follow,tv,plural).\n",
    "\n",
    "%%% Intransitive verbs\n",
    "\n",
    "lex(jumps,iv,singular).\n",
    "lex(jump,iv,plural).\n",
    "lex(runs,iv,singular).\n",
    "lex(run,iv,plural).\n",
    "\n",
    "%%% Determiners\n",
    "\n",
    "lex(the,det,_).\n",
    "lex(no,det,_).\n",
    "lex(a,det,singular).\n",
    "lex(two,det,plural).\n",
    "\n",
    "%%% Sentential and Clausal Connectives\n",
    "\n",
    "lex(not,negS).\n",
    "lex(and,conj).\n",
    "lex(or,conj).\n",
    "lex(if,antI).\n",
    "lex(then,conI).\n"
   ]
  },
  {
   "cell_type": "markdown",
   "id": "4b849240-6acc-41d8-a7d2-3ef415d65a6a",
   "metadata": {},
   "source": [
    "### Student Code Cell\n",
    "\n",
    "In the following code cell, you should write your grammar."
   ]
  },
  {
   "cell_type": "code",
   "execution_count": 2,
   "id": "dd9d88cb-83e8-427c-91f0-a7fbb90eb7c3",
   "metadata": {
    "deletable": false,
    "nbgrader": {
     "cell_type": "code",
     "checksum": "1d2d5de66030c7fc877311fc5d6ac870",
     "grade": false,
     "grade_id": "cell-9ce79f791e187530",
     "locked": false,
     "schema_version": 3,
     "solution": true,
     "task": false
    },
    "vscode": {
     "languageId": "prolog"
    }
   },
   "outputs": [
    {
     "data": {
      "text/plain": [
       "% Asserting clauses for user:s/3\n"
      ]
     },
     "metadata": {},
     "output_type": "display_data"
    },
    {
     "data": {
      "text/plain": [
       "% Asserting clauses for user:np/3\n"
      ]
     },
     "metadata": {},
     "output_type": "display_data"
    },
    {
     "data": {
      "text/plain": [
       "% Asserting clauses for user:vp/3\n"
      ]
     },
     "metadata": {},
     "output_type": "display_data"
    },
    {
     "data": {
      "text/plain": [
       "% Asserting clauses for user:intransitive_verb/1\n"
      ]
     },
     "metadata": {},
     "output_type": "display_data"
    },
    {
     "data": {
      "text/plain": [
       "% Asserting clauses for user:transitive_verb/1\n"
      ]
     },
     "metadata": {},
     "output_type": "display_data"
    },
    {
     "data": {
      "text/plain": [
       "% Asserting clauses for user:det/3\n"
      ]
     },
     "metadata": {},
     "output_type": "display_data"
    },
    {
     "data": {
      "text/plain": [
       "% Asserting clauses for user:n/3\n"
      ]
     },
     "metadata": {},
     "output_type": "display_data"
    },
    {
     "data": {
      "text/plain": [
       "% Asserting clauses for user:v/3\n"
      ]
     },
     "metadata": {},
     "output_type": "display_data"
    },
    {
     "data": {
      "text/plain": [
       "% Asserting clauses for user:negS/3\n"
      ]
     },
     "metadata": {},
     "output_type": "display_data"
    },
    {
     "data": {
      "text/plain": [
       "% Asserting clauses for user:conj/3\n"
      ]
     },
     "metadata": {},
     "output_type": "display_data"
    },
    {
     "data": {
      "text/plain": [
       "% Asserting clauses for user:antI/3\n"
      ]
     },
     "metadata": {},
     "output_type": "display_data"
    },
    {
     "data": {
      "text/plain": [
       "% Asserting clauses for user:conI/3\n"
      ]
     },
     "metadata": {},
     "output_type": "display_data"
    },
    {
     "data": {
      "text/plain": [
       "% Asserting clauses for user:match_number/2\n"
      ]
     },
     "metadata": {},
     "output_type": "display_data"
    },
    {
     "data": {
      "text/plain": [
       "% Asserting clauses for user:subject_verb_agreement/2\n"
      ]
     },
     "metadata": {},
     "output_type": "display_data"
    },
    {
     "data": {
      "text/plain": [
       "% Asserting clauses for user:subject_verb_agreement/3\n"
      ]
     },
     "metadata": {},
     "output_type": "display_data"
    },
    {
     "data": {
      "text/plain": [
       "% Asserting clauses for user:det_noun_agreement/2\n"
      ]
     },
     "metadata": {},
     "output_type": "display_data"
    },
    {
     "data": {
      "text/plain": [
       "% Asserting clauses for user:is_if_clause/1\n"
      ]
     },
     "metadata": {},
     "output_type": "display_data"
    }
   ],
   "source": [
    "%%% Table the recursive rules to avoid infinite recursion\n",
    ":- table np/3.\n",
    ":- table vp/3.\n",
    ":- table s/3.\n",
    "\n",
    "%%% Sentence rules\n",
    "s(s(NP, VP)) --> np(NP), vp(VP), {subject_verb_agreement(NP, VP)}. % Regular Sentence\n",
    "\n",
    "s(s(negS(Word), s(NP, VP))) --> negS(Word), np(NP), vp(VP), {subject_verb_agreement(NP, VP)}. % Negation\n",
    "\n",
    "s(s(S1, conj(Word), S2)) --> s(S1), conj(Word), s(S2). % Sentence Conjunction\n",
    "\n",
    "s(s(np(NP, conj(Word), NP2), VP)) --> np(NP), conj(Word), np(NP2), vp(VP), {subject_verb_agreement(NP, NP2, VP)}. % Noun Conjunction\n",
    "\n",
    "s(s(NP, vp(VP, conj(Word), VP2))) --> np(NP), vp(VP), conj(Word), vp(VP2), {subject_verb_agreement(NP, VP, VP2)}. % Verb Conjunction\n",
    "\n",
    "s(s(S1, S2)) --> s(S1), s(S2), {is_if_clause(S1)}. % Clausal Conjunction\n",
    "s(s(antI(if), s(NP, VP))) --> antI(if), np(NP), vp(VP), {subject_verb_agreement(NP, VP)}. % Clausal Sentence\n",
    "s(s(conI(then), s(NP, VP))) --> conI(then), np(NP), vp(VP), {subject_verb_agreement(NP, VP)}. % Clausal Sentence\n",
    "\n",
    "%%% Noun Phrase Rule\n",
    "np(np(Det, N)) --> det(Det), n(N), {det_noun_agreement(Det, N)}.\n",
    "\n",
    "%%% Verb Phrase Rules\n",
    "vp(vp(V)) --> v(V), {intransitive_verb(V)}.\n",
    "vp(vp(V, NP)) --> v(V), np(NP), {transitive_verb(V)}.\n",
    "\n",
    "%%% Verb classifications\n",
    "intransitive_verb(v(Verb)) :- lex(Verb, iv, _).\n",
    "transitive_verb(v(Verb)) :- lex(Verb, tv, _).\n",
    "\n",
    "%%% Determiner rule\n",
    "det(det(Word)) --> [Word], {lex(Word, det, _)}.\n",
    "\n",
    "%%% Noun rule\n",
    "n(n(Word)) --> [Word], {lex(Word, n, _)}.\n",
    "\n",
    "%%% Verb rule\n",
    "v(v(Word)) --> [Word], {lex(Word, tv, _) ; lex(Word, iv, _)}.\n",
    "\n",
    "%%% Negation rule\n",
    "negS(not) --> [not].\n",
    "\n",
    "%%% Conjunction rule\n",
    "conj(and) --> [and].\n",
    "conj(or) --> [or].\n",
    "\n",
    "%%% Clausal Connective rule\n",
    "antI(if) --> [if].\n",
    "conI(then) --> [then].\n",
    "\n",
    "%%% Matching singular/plural\n",
    "match_number(singular, singular).\n",
    "match_number(plural, plural).\n",
    "\n",
    "%%% Subject-verb agreement rules\n",
    "\n",
    "subject_verb_agreement(np(_, n(Noun)), vp(v(Verb), _)) :-\n",
    "    lex(Noun, n, Number),\n",
    "    lex(Verb, tv, VerbNumber),\n",
    "    match_number(Number, VerbNumber).\n",
    "\n",
    "subject_verb_agreement(np(_, n(Noun)), vp(v(Verb))) :-\n",
    "    lex(Noun, n, Number),\n",
    "    lex(Verb, iv, VerbNumber),\n",
    "    match_number(Number, VerbNumber).\n",
    "\n",
    "% Subject-verb agreement rules - Conjoining Nouns\n",
    "\n",
    "subject_verb_agreement(np(_, n(Noun)), np(_, n(Noun2)), vp(v(Verb))) :-\n",
    "    lex(Noun, n, Number1),\n",
    "    lex(Noun2, n, Number2),\n",
    "    lex(Verb, iv, VerbNumber),\n",
    "    match_number(plural, VerbNumber).\n",
    "\n",
    "subject_verb_agreement(np(_, n(Noun)), np(_, n(Noun2)), vp(v(Verb), _)) :-\n",
    "    lex(Noun, n, Number1),\n",
    "    lex(Noun2, n, Number2),\n",
    "    lex(Verb, tv, VerbNumber),\n",
    "    match_number(plural, VerbNumber).\n",
    "\n",
    "% Subject-verb agreement rules - Conjoining Verbs\n",
    "\n",
    "subject_verb_agreement(np(_, n(Noun)), vp(v(Verb)), vp(v(Verb2))) :-\n",
    "    lex(Noun, n, Number),\n",
    "    lex(Verb, _, VerbNumber),\n",
    "    lex(Verb2, _, VerbNumber2),\n",
    "    match_number(Number, VerbNumber),\n",
    "    match_number(Number, VerbNumber2).\n",
    "\n",
    "subject_verb_agreement(np(_, n(Noun)), vp(v(Verb), _), vp(v(Verb2))) :-\n",
    "    lex(Noun, n, Number),\n",
    "    lex(Verb, _, VerbNumber),\n",
    "    lex(Verb2, _, VerbNumber2),\n",
    "    match_number(Number, VerbNumber),\n",
    "    match_number(Number, VerbNumber2).\n",
    "\n",
    "subject_verb_agreement(np(_, n(Noun)), vp(v(Verb)), vp(v(Verb2), _)) :-\n",
    "    lex(Noun, n, Number),\n",
    "    lex(Verb, _, VerbNumber),\n",
    "    lex(Verb2, _, VerbNumber2),\n",
    "    match_number(Number, VerbNumber),\n",
    "    match_number(Number, VerbNumber2).\n",
    "\n",
    "subject_verb_agreement(np(_, n(Noun)), vp(v(Verb), _), vp(v(Verb2), _)) :-\n",
    "    lex(Noun, n, Number),\n",
    "    lex(Verb, tv, VerbNumber),\n",
    "    lex(Verb2, tv, VerbNumber2),\n",
    "    match_number(Number, VerbNumber),\n",
    "    match_number(Number, VerbNumber2).\n",
    "\n",
    "%%% Determiner-noun agreement\n",
    "\n",
    "det_noun_agreement(det(Word), n(Noun)) :-\n",
    "    lex(Word, det, singular),\n",
    "    lex(Noun, n, singular),\n",
    "    !.\n",
    "\n",
    "det_noun_agreement(det(Word), n(Noun)) :-\n",
    "    lex(Word, det, plural),\n",
    "    lex(Noun, n, plural),\n",
    "    !.\n",
    "\n",
    "%%% Check for \"if\" clause\n",
    "is_if_clause(s(antI(if), s(_, _))) :- !."
   ]
  },
  {
   "cell_type": "markdown",
   "id": "e9f538ad-b6d2-4020-9112-bcce2efc1c6c",
   "metadata": {},
   "source": [
    "### Seen and Unseen Tests\n",
    "\n",
    "In the following tests, there are seen tests and unseen tests. Your grammar is assessed on more tests than you can see.\n",
    "\n",
    "For the seen tests, if your parse is correct, then it will answer **true**. If your parse is not correct, then it will answer **false** and output the correct parse. In this way, you can self-evaluate your grammar and work to correct it. Seen tests are marked once you submit your notebook to NBGrader.\n",
    "\n",
    "For the unseen tests, you will be asked to input your query and NBGrader will evaluate whether or not your grammar correctly parses. But it will not give you any feedback."
   ]
  },
  {
   "cell_type": "code",
   "execution_count": null,
   "id": "6dfcd8f5-8834-44d4-abc8-3676575589d1",
   "metadata": {},
   "outputs": [
    {
     "data": {
      "text/plain": [
       "\u001b[1mTree = s(antI(if),s(np(det(a),n(woman)),vp(v(jumps))))"
      ]
     },
     "metadata": {},
     "output_type": "display_data"
    },
    {
     "data": {
      "text/plain": [
       "\u001b[1mTree = s(conI(then),s(np(det(a),n(man)),vp(v(runs))))"
      ]
     },
     "metadata": {},
     "output_type": "display_data"
    },
    {
     "data": {
      "text/plain": [
       "\u001b[1mTree = s(s(antI(if),s(np(det(a),n(woman)),vp(v(jumps)))),s(conI(then),s(np(det(a),n(man)),vp(v(runs)))))"
      ]
     },
     "metadata": {},
     "output_type": "display_data"
    },
    {
     "data": {
      "text/plain": [
       "\u001b[1;31mfalse"
      ]
     },
     "metadata": {},
     "output_type": "display_data"
    },
    {
     "data": {
      "text/plain": [
       "\u001b[1mTree = s(np(det(two),n(women)),vp(v(run)))"
      ]
     },
     "metadata": {},
     "output_type": "display_data"
    },
    {
     "data": {
      "text/plain": [
       "\u001b[1mTree = s(np(det(two),n(men)),vp(v(run)))"
      ]
     },
     "metadata": {},
     "output_type": "display_data"
    },
    {
     "data": {
      "text/plain": [
       "\u001b[1mTree = s(np(np(det(two),n(women)),conj(and),np(det(two),n(men))),vp(v(follow),np(det(a),n(man))))"
      ]
     },
     "metadata": {},
     "output_type": "display_data"
    },
    {
     "data": {
      "text/plain": [
       "\u001b[1mTree = s(np(np(det(two),n(women)),conj(and),np(det(a),n(man))),vp(v(run)))"
      ]
     },
     "metadata": {},
     "output_type": "display_data"
    },
    {
     "data": {
      "text/plain": [
       "\u001b[1;31mfalse"
      ]
     },
     "metadata": {},
     "output_type": "display_data"
    },
    {
     "data": {
      "text/plain": [
       "\u001b[1mTree = s(np(np(det(a),n(woman)),conj(and),np(det(a),n(man))),vp(v(run)))"
      ]
     },
     "metadata": {},
     "output_type": "display_data"
    },
    {
     "data": {
      "text/plain": [
       "\u001b[1mTree = s(np(det(a),n(woman)),vp(vp(v(follows),np(det(a),n(man))),conj(and),vp(v(pushes),np(det(the),n(woman)))))"
      ]
     },
     "metadata": {},
     "output_type": "display_data"
    }
   ],
   "source": [
    "?- s(Tree, [if,a,woman,jumps],[]).\n",
    "?- s(Tree, [then,a,man,runs],[]).\n",
    "\n",
    "?- s(Tree, [if,a,woman,jumps,then,a,man,runs],[]).\n",
    "?- s(Tree, [a,woman,jumps,then,a,man,runs],[]).\n",
    "\n",
    "?- s(Tree, [two,women,run],[]).\n",
    "?- s(Tree, [two,men,run],[]).\n",
    "\n",
    "?- s(Tree, [two,women,and,two,men,follow,a,man],[]).\n",
    "?- s(Tree, [two,women,and,a,man,run],[]).\n",
    "?- s(Tree, [two,women,and,a,man,runs],[]).\n",
    "?- s(Tree, [a,woman,and,a,man,run],[]).\n",
    "\n",
    "?- s(Tree, [a,woman,follows,a,man,and,pushes,the,woman],[])."
   ]
  },
  {
   "cell_type": "code",
   "execution_count": 4,
   "id": "a8af24ab-547b-44c5-93cf-bd6660aab703",
   "metadata": {
    "scrolled": true
   },
   "outputs": [
    {
     "data": {
      "text/plain": [
       "\u001b[1mTree = s(s(np(det(a),n(woman)),vp(v(jumps))),conj(and),s(np(det(the),n(man)),vp(v(follows),np(det(a),n(man)))))"
      ]
     },
     "metadata": {},
     "output_type": "display_data"
    }
   ],
   "source": [
    "?- s(Tree, [a,woman,jumps,and,the,man,follows,a,man],[])."
   ]
  },
  {
   "cell_type": "code",
   "execution_count": 5,
   "id": "814db61d",
   "metadata": {
    "deletable": false,
    "editable": false,
    "nbgrader": {
     "cell_type": "code",
     "checksum": "87470f8c2ed8d44fe3edf44cce8b41d0",
     "grade": false,
     "grade_id": "cell-935fe5fe02c9e859",
     "locked": true,
     "schema_version": 3,
     "solution": false,
     "task": false
    },
    "vscode": {
     "languageId": "prolog"
    }
   },
   "outputs": [
    {
     "data": {
      "text/plain": [
       "\u001b[1mtrue"
      ]
     },
     "metadata": {},
     "output_type": "display_data"
    }
   ],
   "source": [
    "?- s(s(np(det(a),n(woman)),vp(v(jumps))), [a,woman,jumps],[])."
   ]
  },
  {
   "cell_type": "code",
   "execution_count": 6,
   "id": "4d52c1fc",
   "metadata": {
    "deletable": false,
    "editable": false,
    "nbgrader": {
     "cell_type": "code",
     "checksum": "d0b45db31c06e3fb7f8cf97aa7f4d959",
     "grade": false,
     "grade_id": "cell-c3d3ab0e546f6395",
     "locked": true,
     "schema_version": 3,
     "solution": false,
     "task": false
    },
    "vscode": {
     "languageId": "prolog"
    }
   },
   "outputs": [
    {
     "data": {
      "text/plain": [
       "% Defined test unit dcg_coursework"
      ]
     },
     "metadata": {},
     "output_type": "display_data"
    }
   ],
   "source": [
    ":- begin_tests(dcg_coursework).\n",
    "\n",
    "test(seen_1, [true(Tree = s(np(det(a),n(woman)),vp(v(jumps))))]) :-\n",
    "    s(Tree, [a,woman,jumps],[]).\n",
    "\n",
    "test(seen_2, [fail]) :-\n",
    "    s(_, [a,woman,jump],[]).\n",
    "\n",
    "test(seen_3, [fail]) :-\n",
    "    s(_, [a,women,jump],[]).\n",
    "\n",
    "test(seen_4, [true(Tree = s(np(det(no),n(women)),vp(v(follow),np(det(the),n(man)))))]) :-\n",
    "    s(Tree, [no,women,follow,the,man],[]).\n",
    "\n",
    "test(seen_5, [true(Tree = s(negS(not),s(np(det(a),n(woman)),vp(v(jumps)))))]) :-\n",
    "    s(Tree, [not,a,woman,jumps],[]).\n",
    "\n",
    "test(seen_6, [fail]) :-\n",
    "    s(_, [a,woman,not,jumps],[]).\n",
    "\n",
    "test(seen_7, [true(Tree = s(s(np(det(a),n(woman)),vp(v(jumps))),conj(and),s(np(det(the),n(man)),vp(v(follows),np(det(a),n(man))))))]) :-\n",
    "    s(Tree, [a,woman,jumps,and,the,man,follows,a,man],[]).\n",
    "\n",
    "test(seen_8, [true(Tree = s(s(np(det(a),n(woman)),vp(v(jumps))),conj(or),s(np(det(the),n(man)),vp(v(jumps)))))]) :-\n",
    "    s(Tree, [a,woman,jumps,or,the,man,jumps],[]).\n",
    "\n",
    "test(seen_9, [fail]) :-\n",
    "    s(_, [a,woman,jumps,or],[]).\n",
    "\n",
    "test(seen_10, [true(Tree = s(antI(if),s(np(det(a),n(woman)),vp(v(jumps)))))]) :-\n",
    "    antS(Tree, [if,a,woman,jumps],[]).\n",
    "\n",
    "test(seen_11, [true(Tree = s(conI(then),s(np(det(a),n(woman)),vp(v(jumps)))))]) :-\n",
    "    conS(Tree, [then,a,woman,jumps],[]).\n",
    "\n",
    "test(seen_12, [true(Tree = s(s(antI(if),s(np(det(a),n(woman)),vp(v(jumps)))),s(conI(then),s(np(det(a),n(man)),vp(v(runs))))))]) :-\n",
    "s(Tree, [if,a,woman,jumps,then,a,man,runs],[]).\n",
    "\n",
    "test(seen_13, [fail]) :-\n",
    "    s(_, [a,woman,jumps,then,a,man,runs],[]).\n",
    "\n",
    "test(seen_14, [true(Tree = s(np(np(det(two),n(women)),conj(and),np(det(two),n(men))),vp(v(run))))]) :-\n",
    "    s(Tree, [two,women,and,two,men,run],[]).\n",
    "\n",
    "test(seen_15, [true(Tree = s(np(np(det(two),n(women)),conj(and),np(det(a),n(man))),vp(v(run))))]) :-\n",
    "    s(Tree, [two,women,and,a,man,run],[]).\n",
    "\n",
    "test(seen_16, [fail]) :-\n",
    "    s(_, [two,women,and,a,man,runs],[]).\n",
    "\n",
    "test(seen_17, [true(Tree = s(np(np(det(two),n(women)),conj(and),np(det(no),n(men))),vp(v(run))))]) :-\n",
    "    s(Tree, [two,women,and,no,men,run],[]).\n",
    "\n",
    "test(seen_18, [nondet]) :-\n",
    "    s(s(s(s(np(det(a),n(woman)),vp(v(jumps))),conj(and),s(np(det(a),n(man)),vp(v(runs)))),conj(and),s(np(det(two),n(women)),vp(v(run)))), [a,woman,jumps,and,a,man,runs,and,two,women,run],[]).\n",
    "\n",
    "test(seen_19, [true(Tree = s(np(det(a),n(woman)),vp(vp(v(follows),np(det(a),n(man))),conj(and),vp(v(pushes),np(det(the),n(woman))))))]) :-\n",
    "    s(Tree, [a,woman,follows,a,man,and,pushes,the,woman],[]).\n",
    "\n",
    "test(seen_20, [fail]) :-\n",
    "    s(_, [a,woman,or,the,men,follow,a,man,and,pushes,the,woman],[]).\n",
    "\n",
    ":- end_tests(dcg_coursework)."
   ]
  },
  {
   "cell_type": "code",
   "execution_count": 7,
   "id": "3dafe640",
   "metadata": {
    "deletable": false,
    "editable": false,
    "nbgrader": {
     "cell_type": "code",
     "checksum": "9c57974223edaa9e665ad3e8e1d5239a",
     "grade": true,
     "grade_id": "cell-a062cc3606a583db",
     "locked": true,
     "points": 0.5,
     "schema_version": 3,
     "solution": false,
     "task": false
    },
    "vscode": {
     "languageId": "prolog"
    }
   },
   "outputs": [
    {
     "data": {
      "text/plain": [
       "% PL-Unit: dcg_coursework:seen_1 . done\n",
       "% test passed"
      ]
     },
     "metadata": {},
     "output_type": "display_data"
    },
    {
     "data": {
      "text/plain": [
       "\u001b[1mtrue"
      ]
     },
     "metadata": {},
     "output_type": "display_data"
    }
   ],
   "source": [
    "?- run_tests(dcg_coursework:seen_1)."
   ]
  },
  {
   "cell_type": "code",
   "execution_count": 8,
   "id": "a74c83c5",
   "metadata": {
    "deletable": false,
    "editable": false,
    "nbgrader": {
     "cell_type": "code",
     "checksum": "4fc7e843cd391aa7e36fc2d4f27f225b",
     "grade": true,
     "grade_id": "cell-8d979ef15bacc769",
     "locked": true,
     "points": 0.5,
     "schema_version": 3,
     "solution": false,
     "task": false
    },
    "vscode": {
     "languageId": "prolog"
    }
   },
   "outputs": [
    {
     "data": {
      "text/plain": [
       "% PL-Unit: dcg_coursework:seen_2 . done\n",
       "% test passed"
      ]
     },
     "metadata": {},
     "output_type": "display_data"
    },
    {
     "data": {
      "text/plain": [
       "\u001b[1mtrue"
      ]
     },
     "metadata": {},
     "output_type": "display_data"
    }
   ],
   "source": [
    "?- run_tests(dcg_coursework:seen_2)."
   ]
  },
  {
   "cell_type": "code",
   "execution_count": 9,
   "id": "ecbb96a6",
   "metadata": {
    "deletable": false,
    "editable": false,
    "nbgrader": {
     "cell_type": "code",
     "checksum": "21f8d586b6c92d0f46c8cd7407ca9579",
     "grade": true,
     "grade_id": "cell-1189a8b860f2d60c",
     "locked": true,
     "points": 0.5,
     "schema_version": 3,
     "solution": false,
     "task": false
    },
    "vscode": {
     "languageId": "prolog"
    }
   },
   "outputs": [
    {
     "data": {
      "text/plain": [
       "% PL-Unit: dcg_coursework:seen_3 . done\n",
       "% test passed"
      ]
     },
     "metadata": {},
     "output_type": "display_data"
    },
    {
     "data": {
      "text/plain": [
       "\u001b[1mtrue"
      ]
     },
     "metadata": {},
     "output_type": "display_data"
    }
   ],
   "source": [
    "?- run_tests(dcg_coursework:seen_3)."
   ]
  },
  {
   "cell_type": "code",
   "execution_count": 10,
   "id": "26cd0b78",
   "metadata": {
    "deletable": false,
    "editable": false,
    "nbgrader": {
     "cell_type": "code",
     "checksum": "93a64f9b50f5c2075c64d687feaa7036",
     "grade": true,
     "grade_id": "cell-71b8ea7b560e03fa",
     "locked": true,
     "points": 0.5,
     "schema_version": 3,
     "solution": false,
     "task": false
    },
    "vscode": {
     "languageId": "prolog"
    }
   },
   "outputs": [
    {
     "data": {
      "text/plain": [
       "% PL-Unit: dcg_coursework:seen_4 . done\n",
       "% test passed"
      ]
     },
     "metadata": {},
     "output_type": "display_data"
    },
    {
     "data": {
      "text/plain": [
       "\u001b[1mtrue"
      ]
     },
     "metadata": {},
     "output_type": "display_data"
    }
   ],
   "source": [
    "?- run_tests(dcg_coursework:seen_4)."
   ]
  },
  {
   "cell_type": "code",
   "execution_count": 11,
   "id": "d9136fee",
   "metadata": {
    "deletable": false,
    "editable": false,
    "nbgrader": {
     "cell_type": "code",
     "checksum": "24da02579445c91e10ad5384e7d2b806",
     "grade": true,
     "grade_id": "cell-78dfdbf776175a65",
     "locked": true,
     "points": 0.5,
     "schema_version": 3,
     "solution": false,
     "task": false
    },
    "vscode": {
     "languageId": "prolog"
    }
   },
   "outputs": [
    {
     "data": {
      "text/plain": [
       "% PL-Unit: dcg_coursework:seen_5 . done\n",
       "% test passed"
      ]
     },
     "metadata": {},
     "output_type": "display_data"
    },
    {
     "data": {
      "text/plain": [
       "\u001b[1mtrue"
      ]
     },
     "metadata": {},
     "output_type": "display_data"
    }
   ],
   "source": [
    "?- run_tests(dcg_coursework:seen_5)."
   ]
  },
  {
   "cell_type": "code",
   "execution_count": 12,
   "id": "edd97acc",
   "metadata": {
    "deletable": false,
    "editable": false,
    "nbgrader": {
     "cell_type": "code",
     "checksum": "1ea3a36074328bd01abe7ee9eba59e7e",
     "grade": true,
     "grade_id": "cell-22ed12b224569551",
     "locked": true,
     "points": 0.5,
     "schema_version": 3,
     "solution": false,
     "task": false
    },
    "vscode": {
     "languageId": "prolog"
    }
   },
   "outputs": [
    {
     "data": {
      "text/plain": [
       "% PL-Unit: dcg_coursework:seen_6 . done\n",
       "% test passed"
      ]
     },
     "metadata": {},
     "output_type": "display_data"
    },
    {
     "data": {
      "text/plain": [
       "\u001b[1mtrue"
      ]
     },
     "metadata": {},
     "output_type": "display_data"
    }
   ],
   "source": [
    "?- run_tests(dcg_coursework:seen_6)."
   ]
  },
  {
   "cell_type": "code",
   "execution_count": 13,
   "id": "36ae093f",
   "metadata": {
    "deletable": false,
    "editable": false,
    "nbgrader": {
     "cell_type": "code",
     "checksum": "63ac1ed054131e948284b7dc3ae3e848",
     "grade": true,
     "grade_id": "cell-8746a2ef1ebcbc8d",
     "locked": true,
     "points": 0.5,
     "schema_version": 3,
     "solution": false,
     "task": false
    },
    "vscode": {
     "languageId": "prolog"
    }
   },
   "outputs": [
    {
     "data": {
      "text/plain": [
       "% PL-Unit: dcg_coursework:seen_7 . done\n",
       "% test passed"
      ]
     },
     "metadata": {},
     "output_type": "display_data"
    },
    {
     "data": {
      "text/plain": [
       "\u001b[1mtrue"
      ]
     },
     "metadata": {},
     "output_type": "display_data"
    }
   ],
   "source": [
    "?- run_tests(dcg_coursework:seen_7)."
   ]
  },
  {
   "cell_type": "code",
   "execution_count": 14,
   "id": "126e821c",
   "metadata": {
    "deletable": false,
    "editable": false,
    "nbgrader": {
     "cell_type": "code",
     "checksum": "8b4cf61bd0b257b13e4bc36fcb32412d",
     "grade": true,
     "grade_id": "cell-7c31c4a58e39655b",
     "locked": true,
     "points": 0.5,
     "schema_version": 3,
     "solution": false,
     "task": false
    },
    "vscode": {
     "languageId": "prolog"
    }
   },
   "outputs": [
    {
     "data": {
      "text/plain": [
       "% PL-Unit: dcg_coursework:seen_8 . done\n",
       "% test passed"
      ]
     },
     "metadata": {},
     "output_type": "display_data"
    },
    {
     "data": {
      "text/plain": [
       "\u001b[1mtrue"
      ]
     },
     "metadata": {},
     "output_type": "display_data"
    }
   ],
   "source": [
    "?- run_tests(dcg_coursework:seen_8)."
   ]
  },
  {
   "cell_type": "code",
   "execution_count": 15,
   "id": "9ae8b643",
   "metadata": {
    "deletable": false,
    "editable": false,
    "nbgrader": {
     "cell_type": "code",
     "checksum": "d2d2564f5d88c164f88f6a968501422b",
     "grade": true,
     "grade_id": "cell-c2d0be3e458026e5",
     "locked": true,
     "points": 0.5,
     "schema_version": 3,
     "solution": false,
     "task": false
    },
    "vscode": {
     "languageId": "prolog"
    }
   },
   "outputs": [
    {
     "data": {
      "text/plain": [
       "% PL-Unit: dcg_coursework:seen_9 . done\n",
       "% test passed"
      ]
     },
     "metadata": {},
     "output_type": "display_data"
    },
    {
     "data": {
      "text/plain": [
       "\u001b[1mtrue"
      ]
     },
     "metadata": {},
     "output_type": "display_data"
    }
   ],
   "source": [
    "?- run_tests(dcg_coursework:seen_9)."
   ]
  },
  {
   "cell_type": "code",
   "execution_count": null,
   "id": "812506b2",
   "metadata": {
    "deletable": false,
    "editable": false,
    "nbgrader": {
     "cell_type": "code",
     "checksum": "df8533da6194c954bcdab0069779ee29",
     "grade": true,
     "grade_id": "cell-771422a1eb6d00f3",
     "locked": true,
     "points": 0.5,
     "schema_version": 3,
     "solution": false,
     "task": false
    },
    "vscode": {
     "languageId": "prolog"
    }
   },
   "outputs": [
    {
     "data": {
      "text/plain": [
       "% PL-Unit: dcg_coursework:seen_10 \n",
       "% No tests to run"
      ]
     },
     "metadata": {},
     "output_type": "display_data"
    },
    {
     "data": {
      "text/plain": [
       "\u001b[1;31mERROR: append_args/3: Unknown procedure: '$messages':to_list/2\n"
      ]
     },
     "metadata": {},
     "output_type": "display_data"
    }
   ],
   "source": [
    "?- run_tests(dcg_coursework:seen_10)."
   ]
  },
  {
   "cell_type": "code",
   "execution_count": null,
   "id": "3dad0ce5",
   "metadata": {
    "deletable": false,
    "editable": false,
    "nbgrader": {
     "cell_type": "code",
     "checksum": "3585cb9ce3e15e632207b6f1598061a8",
     "grade": true,
     "grade_id": "cell-87d074d0f4be1587",
     "locked": true,
     "points": 0.5,
     "schema_version": 3,
     "solution": false,
     "task": false
    },
    "vscode": {
     "languageId": "prolog"
    }
   },
   "outputs": [
    {
     "data": {
      "text/plain": [
       "% PL-Unit: dcg_coursework:seen_11 \n",
       "% No tests to run"
      ]
     },
     "metadata": {},
     "output_type": "display_data"
    },
    {
     "data": {
      "text/plain": [
       "\u001b[1;31mERROR: append_args/3: Unknown procedure: '$messages':to_list/2\n"
      ]
     },
     "metadata": {},
     "output_type": "display_data"
    }
   ],
   "source": [
    "?- run_tests(dcg_coursework:seen_11)."
   ]
  },
  {
   "cell_type": "code",
   "execution_count": 18,
   "id": "01590a24",
   "metadata": {
    "deletable": false,
    "editable": false,
    "nbgrader": {
     "cell_type": "code",
     "checksum": "0abb4107f8ed23de3270d16f762f7a76",
     "grade": true,
     "grade_id": "cell-36bf9b91829fc57d",
     "locked": true,
     "points": 0.5,
     "schema_version": 3,
     "solution": false,
     "task": false
    },
    "vscode": {
     "languageId": "prolog"
    }
   },
   "outputs": [
    {
     "data": {
      "text/plain": [
       "% PL-Unit: dcg_coursework:seen_12 . done\n",
       "% test passed"
      ]
     },
     "metadata": {},
     "output_type": "display_data"
    },
    {
     "data": {
      "text/plain": [
       "\u001b[1mtrue"
      ]
     },
     "metadata": {},
     "output_type": "display_data"
    }
   ],
   "source": [
    "?- run_tests(dcg_coursework:seen_12)."
   ]
  },
  {
   "cell_type": "code",
   "execution_count": 19,
   "id": "e3cf5206",
   "metadata": {
    "deletable": false,
    "editable": false,
    "nbgrader": {
     "cell_type": "code",
     "checksum": "5fb7168cce7f05567f0a3cd1aed23962",
     "grade": true,
     "grade_id": "cell-8128c74b9a7c0caa",
     "locked": true,
     "points": 0.5,
     "schema_version": 3,
     "solution": false,
     "task": false
    },
    "vscode": {
     "languageId": "prolog"
    }
   },
   "outputs": [
    {
     "data": {
      "text/plain": [
       "% PL-Unit: dcg_coursework:seen_13 . done\n",
       "% test passed"
      ]
     },
     "metadata": {},
     "output_type": "display_data"
    },
    {
     "data": {
      "text/plain": [
       "\u001b[1mtrue"
      ]
     },
     "metadata": {},
     "output_type": "display_data"
    }
   ],
   "source": [
    "?- run_tests(dcg_coursework:seen_13)."
   ]
  },
  {
   "cell_type": "code",
   "execution_count": 20,
   "id": "7e20a2e5",
   "metadata": {
    "deletable": false,
    "editable": false,
    "nbgrader": {
     "cell_type": "code",
     "checksum": "a3d857c619ebf026ddfe8dfb5bcba332",
     "grade": true,
     "grade_id": "cell-f9e8750daea320af",
     "locked": true,
     "points": 0.5,
     "schema_version": 3,
     "solution": false,
     "task": false
    },
    "vscode": {
     "languageId": "prolog"
    }
   },
   "outputs": [
    {
     "data": {
      "text/plain": [
       "% PL-Unit: dcg_coursework:seen_14 . done\n",
       "% test passed"
      ]
     },
     "metadata": {},
     "output_type": "display_data"
    },
    {
     "data": {
      "text/plain": [
       "\u001b[1mtrue"
      ]
     },
     "metadata": {},
     "output_type": "display_data"
    }
   ],
   "source": [
    "?- run_tests(dcg_coursework:seen_14)."
   ]
  },
  {
   "cell_type": "code",
   "execution_count": 21,
   "id": "e86999e4",
   "metadata": {
    "deletable": false,
    "editable": false,
    "nbgrader": {
     "cell_type": "code",
     "checksum": "3267a2271ebfec83271eb98e4351c4aa",
     "grade": true,
     "grade_id": "cell-fc5c1357a5afb30d",
     "locked": true,
     "points": 0.5,
     "schema_version": 3,
     "solution": false,
     "task": false
    },
    "vscode": {
     "languageId": "prolog"
    }
   },
   "outputs": [
    {
     "data": {
      "text/plain": [
       "% PL-Unit: dcg_coursework:seen_15 . done\n",
       "% test passed"
      ]
     },
     "metadata": {},
     "output_type": "display_data"
    },
    {
     "data": {
      "text/plain": [
       "\u001b[1mtrue"
      ]
     },
     "metadata": {},
     "output_type": "display_data"
    }
   ],
   "source": [
    "?- run_tests(dcg_coursework:seen_15)."
   ]
  },
  {
   "cell_type": "code",
   "execution_count": 22,
   "id": "8f184c47",
   "metadata": {
    "deletable": false,
    "editable": false,
    "nbgrader": {
     "cell_type": "code",
     "checksum": "44074d7f111606fec331a38bbcd95455",
     "grade": true,
     "grade_id": "cell-cb241379075d75bb",
     "locked": true,
     "points": 0.5,
     "schema_version": 3,
     "solution": false,
     "task": false
    },
    "vscode": {
     "languageId": "prolog"
    }
   },
   "outputs": [
    {
     "data": {
      "text/plain": [
       "% PL-Unit: dcg_coursework:seen_16 . done\n",
       "% test passed"
      ]
     },
     "metadata": {},
     "output_type": "display_data"
    },
    {
     "data": {
      "text/plain": [
       "\u001b[1mtrue"
      ]
     },
     "metadata": {},
     "output_type": "display_data"
    }
   ],
   "source": [
    "?- run_tests(dcg_coursework:seen_16)."
   ]
  },
  {
   "cell_type": "code",
   "execution_count": 23,
   "id": "56b4e919",
   "metadata": {
    "deletable": false,
    "editable": false,
    "nbgrader": {
     "cell_type": "code",
     "checksum": "44d6665b888a64d2521ad9d486373b9e",
     "grade": true,
     "grade_id": "cell-49bd3e194227b936",
     "locked": true,
     "points": 0.5,
     "schema_version": 3,
     "solution": false,
     "task": false
    },
    "vscode": {
     "languageId": "prolog"
    }
   },
   "outputs": [
    {
     "data": {
      "text/plain": [
       "% PL-Unit: dcg_coursework:seen_17 . done\n",
       "% test passed"
      ]
     },
     "metadata": {},
     "output_type": "display_data"
    },
    {
     "data": {
      "text/plain": [
       "\u001b[1mtrue"
      ]
     },
     "metadata": {},
     "output_type": "display_data"
    }
   ],
   "source": [
    "?- run_tests(dcg_coursework:seen_17)."
   ]
  },
  {
   "cell_type": "code",
   "execution_count": 24,
   "id": "262323ae",
   "metadata": {
    "deletable": false,
    "editable": false,
    "nbgrader": {
     "cell_type": "code",
     "checksum": "157d4745ed3ede18dddf927df72e2085",
     "grade": true,
     "grade_id": "cell-a63077a52fa83b7c",
     "locked": true,
     "points": 0.5,
     "schema_version": 3,
     "solution": false,
     "task": false
    },
    "vscode": {
     "languageId": "prolog"
    }
   },
   "outputs": [
    {
     "data": {
      "text/plain": [
       "% PL-Unit: dcg_coursework:seen_18 . done\n",
       "% test passed"
      ]
     },
     "metadata": {},
     "output_type": "display_data"
    },
    {
     "data": {
      "text/plain": [
       "\u001b[1mtrue"
      ]
     },
     "metadata": {},
     "output_type": "display_data"
    }
   ],
   "source": [
    "?- run_tests(dcg_coursework:seen_18)."
   ]
  },
  {
   "cell_type": "code",
   "execution_count": 25,
   "id": "4be405fa",
   "metadata": {
    "deletable": false,
    "editable": false,
    "nbgrader": {
     "cell_type": "code",
     "checksum": "4d91f2eed8d69f175bbf4c43d5165073",
     "grade": true,
     "grade_id": "cell-eae5525fc681b448",
     "locked": true,
     "points": 0.5,
     "schema_version": 3,
     "solution": false,
     "task": false
    },
    "vscode": {
     "languageId": "prolog"
    }
   },
   "outputs": [
    {
     "data": {
      "text/plain": [
       "% PL-Unit: dcg_coursework:seen_19 . done\n",
       "% test passed"
      ]
     },
     "metadata": {},
     "output_type": "display_data"
    },
    {
     "data": {
      "text/plain": [
       "\u001b[1mtrue"
      ]
     },
     "metadata": {},
     "output_type": "display_data"
    }
   ],
   "source": [
    "?- run_tests(dcg_coursework:seen_19)."
   ]
  },
  {
   "cell_type": "code",
   "execution_count": 26,
   "id": "45af4cc9",
   "metadata": {
    "deletable": false,
    "editable": false,
    "nbgrader": {
     "cell_type": "code",
     "checksum": "53286320d209b2a28eb090b9e0d4c760",
     "grade": true,
     "grade_id": "cell-afb2a4277040a073",
     "locked": true,
     "points": 0.5,
     "schema_version": 3,
     "solution": false,
     "task": false
    },
    "vscode": {
     "languageId": "prolog"
    }
   },
   "outputs": [
    {
     "data": {
      "text/plain": [
       "% PL-Unit: dcg_coursework:seen_20 . done\n",
       "% test passed"
      ]
     },
     "metadata": {},
     "output_type": "display_data"
    },
    {
     "data": {
      "text/plain": [
       "\u001b[1mtrue"
      ]
     },
     "metadata": {},
     "output_type": "display_data"
    }
   ],
   "source": [
    "?- run_tests(dcg_coursework:seen_20)."
   ]
  },
  {
   "cell_type": "code",
   "execution_count": 27,
   "id": "43585cda-cce1-42a3-8017-0a88f73f89a7",
   "metadata": {
    "deletable": false,
    "editable": false,
    "nbgrader": {
     "cell_type": "code",
     "checksum": "3b5846233f4579e5b60bc4cf1d6aff96",
     "grade": true,
     "grade_id": "cell-5091ed05f0837518",
     "locked": true,
     "points": 0,
     "schema_version": 3,
     "solution": false,
     "task": false
    }
   },
   "outputs": [
    {
     "data": {
      "text/plain": [
       "% Defined test unit dcg_coursework_hidden"
      ]
     },
     "metadata": {},
     "output_type": "display_data"
    }
   ],
   "source": [
    ":- begin_tests(dcg_coursework_hidden).\n",
    "\n",
    ":- end_tests(dcg_coursework_hidden)."
   ]
  },
  {
   "cell_type": "code",
   "execution_count": 28,
   "id": "f8496f36-b713-44c5-967c-603aa3447f3d",
   "metadata": {
    "deletable": false,
    "editable": false,
    "nbgrader": {
     "cell_type": "code",
     "checksum": "2450744004343c3985a491e41a1fc244",
     "grade": true,
     "grade_id": "cell-309798323a06e00f",
     "locked": true,
     "points": 2,
     "schema_version": 3,
     "solution": false,
     "task": false
    }
   },
   "outputs": [
    {
     "data": {
      "text/plain": [
       "% PL-Unit: dcg_coursework_hidden:unseen_1  done\n",
       "% No tests to run"
      ]
     },
     "metadata": {},
     "output_type": "display_data"
    },
    {
     "data": {
      "text/plain": [
       "\u001b[1mtrue"
      ]
     },
     "metadata": {},
     "output_type": "display_data"
    }
   ],
   "source": [
    ":- run_tests(dcg_coursework_hidden:unseen_1)."
   ]
  },
  {
   "cell_type": "code",
   "execution_count": 29,
   "id": "c8b02f37-f32c-4579-9756-f9913e91e9c8",
   "metadata": {
    "deletable": false,
    "editable": false,
    "nbgrader": {
     "cell_type": "code",
     "checksum": "d992846a5a4ba4168772b6787c0d19ad",
     "grade": true,
     "grade_id": "cell-695388119f9667f1",
     "locked": true,
     "points": 2,
     "schema_version": 3,
     "solution": false,
     "task": false
    }
   },
   "outputs": [
    {
     "data": {
      "text/plain": [
       "% PL-Unit: dcg_coursework_hidden:unseen_2  done\n",
       "% No tests to run"
      ]
     },
     "metadata": {},
     "output_type": "display_data"
    },
    {
     "data": {
      "text/plain": [
       "\u001b[1mtrue"
      ]
     },
     "metadata": {},
     "output_type": "display_data"
    }
   ],
   "source": [
    ":- run_tests(dcg_coursework_hidden:unseen_2)."
   ]
  },
  {
   "cell_type": "code",
   "execution_count": 30,
   "id": "13a44052-1d7d-431e-afcf-53871a7db1e8",
   "metadata": {
    "deletable": false,
    "editable": false,
    "nbgrader": {
     "cell_type": "code",
     "checksum": "6a1bf49549d1ac527871e40ca0fd4651",
     "grade": true,
     "grade_id": "cell-0323a4ddb034736a",
     "locked": true,
     "points": 2,
     "schema_version": 3,
     "solution": false,
     "task": false
    }
   },
   "outputs": [
    {
     "data": {
      "text/plain": [
       "% PL-Unit: dcg_coursework_hidden:unseen_3  done\n",
       "% No tests to run"
      ]
     },
     "metadata": {},
     "output_type": "display_data"
    },
    {
     "data": {
      "text/plain": [
       "\u001b[1mtrue"
      ]
     },
     "metadata": {},
     "output_type": "display_data"
    }
   ],
   "source": [
    ":- run_tests(dcg_coursework_hidden:unseen_3)."
   ]
  },
  {
   "cell_type": "code",
   "execution_count": 31,
   "id": "27f69ff7-4e11-42cc-8a82-e710072a1e5e",
   "metadata": {
    "deletable": false,
    "editable": false,
    "nbgrader": {
     "cell_type": "code",
     "checksum": "05b9a233b796513e9145661935c33328",
     "grade": true,
     "grade_id": "cell-6959bfa2dfa23eda",
     "locked": true,
     "points": 2,
     "schema_version": 3,
     "solution": false,
     "task": false
    }
   },
   "outputs": [
    {
     "data": {
      "text/plain": [
       "% PL-Unit: dcg_coursework_hidden:unseen_4  done\n",
       "% No tests to run"
      ]
     },
     "metadata": {},
     "output_type": "display_data"
    },
    {
     "data": {
      "text/plain": [
       "\u001b[1mtrue"
      ]
     },
     "metadata": {},
     "output_type": "display_data"
    }
   ],
   "source": [
    ":- run_tests(dcg_coursework_hidden:unseen_4)."
   ]
  },
  {
   "cell_type": "code",
   "execution_count": 32,
   "id": "2301a9dd-0364-4570-9121-7d18d810ab4e",
   "metadata": {
    "deletable": false,
    "editable": false,
    "nbgrader": {
     "cell_type": "code",
     "checksum": "a57bffe40c854a373a31aeef5fd7fd2a",
     "grade": true,
     "grade_id": "cell-88036fb9221c01c5",
     "locked": true,
     "points": 2,
     "schema_version": 3,
     "solution": false,
     "task": false
    }
   },
   "outputs": [
    {
     "data": {
      "text/plain": [
       "% PL-Unit: dcg_coursework_hidden:unseen_5  done\n",
       "% No tests to run"
      ]
     },
     "metadata": {},
     "output_type": "display_data"
    },
    {
     "data": {
      "text/plain": [
       "\u001b[1mtrue"
      ]
     },
     "metadata": {},
     "output_type": "display_data"
    }
   ],
   "source": [
    ":- run_tests(dcg_coursework_hidden:unseen_5)."
   ]
  },
  {
   "cell_type": "code",
   "execution_count": 33,
   "id": "675fde57-3b0f-4212-bfe4-27d489f39c6a",
   "metadata": {
    "deletable": false,
    "editable": false,
    "nbgrader": {
     "cell_type": "code",
     "checksum": "222c6d8090b4dba360bd2884782e18c6",
     "grade": true,
     "grade_id": "cell-73c5f9d6d3d16466",
     "locked": true,
     "points": 2,
     "schema_version": 3,
     "solution": false,
     "task": false
    }
   },
   "outputs": [
    {
     "data": {
      "text/plain": [
       "% PL-Unit: dcg_coursework_hidden:unseen_6  done\n",
       "% No tests to run"
      ]
     },
     "metadata": {},
     "output_type": "display_data"
    },
    {
     "data": {
      "text/plain": [
       "\u001b[1mtrue"
      ]
     },
     "metadata": {},
     "output_type": "display_data"
    }
   ],
   "source": [
    ":- run_tests(dcg_coursework_hidden:unseen_6)."
   ]
  },
  {
   "cell_type": "code",
   "execution_count": 34,
   "id": "c50dfa78-fb08-4059-b686-a570aebc5a44",
   "metadata": {
    "deletable": false,
    "editable": false,
    "nbgrader": {
     "cell_type": "code",
     "checksum": "3f399c82b94e3b687e168ce35f521d2b",
     "grade": true,
     "grade_id": "cell-0a8c6c4b775f81e4",
     "locked": true,
     "points": 2,
     "schema_version": 3,
     "solution": false,
     "task": false
    }
   },
   "outputs": [
    {
     "data": {
      "text/plain": [
       "% PL-Unit: dcg_coursework_hidden:unseen_7  done\n",
       "% No tests to run"
      ]
     },
     "metadata": {},
     "output_type": "display_data"
    },
    {
     "data": {
      "text/plain": [
       "\u001b[1mtrue"
      ]
     },
     "metadata": {},
     "output_type": "display_data"
    }
   ],
   "source": [
    ":- run_tests(dcg_coursework_hidden:unseen_7)."
   ]
  },
  {
   "cell_type": "code",
   "execution_count": 35,
   "id": "8c1e2674-51ea-4fc9-b8d4-aa2931d6c501",
   "metadata": {
    "deletable": false,
    "editable": false,
    "nbgrader": {
     "cell_type": "code",
     "checksum": "ec1d4ede6f756e4d2839aeb8c08e2b44",
     "grade": true,
     "grade_id": "cell-8db3ad33f40f626f",
     "locked": true,
     "points": 2,
     "schema_version": 3,
     "solution": false,
     "task": false
    }
   },
   "outputs": [
    {
     "data": {
      "text/plain": [
       "% PL-Unit: dcg_coursework_hidden:unseen_8  done\n",
       "% No tests to run"
      ]
     },
     "metadata": {},
     "output_type": "display_data"
    },
    {
     "data": {
      "text/plain": [
       "\u001b[1mtrue"
      ]
     },
     "metadata": {},
     "output_type": "display_data"
    }
   ],
   "source": [
    ":- run_tests(dcg_coursework_hidden:unseen_8)."
   ]
  },
  {
   "cell_type": "code",
   "execution_count": 36,
   "id": "dcf77dbf-8b70-4749-b019-cc253a548064",
   "metadata": {
    "deletable": false,
    "editable": false,
    "nbgrader": {
     "cell_type": "code",
     "checksum": "63f3f5c390d426dd273514e236c20725",
     "grade": true,
     "grade_id": "cell-a9df004061ee7442",
     "locked": true,
     "points": 2,
     "schema_version": 3,
     "solution": false,
     "task": false
    }
   },
   "outputs": [
    {
     "data": {
      "text/plain": [
       "% PL-Unit: dcg_coursework_hidden:unseen_9  done\n",
       "% No tests to run"
      ]
     },
     "metadata": {},
     "output_type": "display_data"
    },
    {
     "data": {
      "text/plain": [
       "\u001b[1mtrue"
      ]
     },
     "metadata": {},
     "output_type": "display_data"
    }
   ],
   "source": [
    ":- run_tests(dcg_coursework_hidden:unseen_9)."
   ]
  },
  {
   "cell_type": "code",
   "execution_count": 37,
   "id": "6f24bcdb-f91c-4b9e-8564-b8e43c8fcadd",
   "metadata": {
    "deletable": false,
    "editable": false,
    "nbgrader": {
     "cell_type": "code",
     "checksum": "5d55ced8d20b037d7805838f6a547548",
     "grade": true,
     "grade_id": "cell-ad93d01fa3bbe107",
     "locked": true,
     "points": 2,
     "schema_version": 3,
     "solution": false,
     "task": false
    }
   },
   "outputs": [
    {
     "data": {
      "text/plain": [
       "% PL-Unit: dcg_coursework_hidden:unseen_10  done\n",
       "% No tests to run"
      ]
     },
     "metadata": {},
     "output_type": "display_data"
    },
    {
     "data": {
      "text/plain": [
       "\u001b[1mtrue"
      ]
     },
     "metadata": {},
     "output_type": "display_data"
    }
   ],
   "source": [
    ":- run_tests(dcg_coursework_hidden:unseen_10)."
   ]
  },
  {
   "cell_type": "code",
   "execution_count": 38,
   "id": "37c41076-9d9f-45b4-8f15-d874feb13c0c",
   "metadata": {
    "deletable": false,
    "editable": false,
    "nbgrader": {
     "cell_type": "code",
     "checksum": "2ca5ff5eb184c81da00ebc189e04a9b9",
     "grade": true,
     "grade_id": "cell-54b4d9330e62890c",
     "locked": true,
     "points": 2,
     "schema_version": 3,
     "solution": false,
     "task": false
    }
   },
   "outputs": [
    {
     "data": {
      "text/plain": [
       "% PL-Unit: dcg_coursework_hidden:unseen_11  done\n",
       "% No tests to run"
      ]
     },
     "metadata": {},
     "output_type": "display_data"
    },
    {
     "data": {
      "text/plain": [
       "\u001b[1mtrue"
      ]
     },
     "metadata": {},
     "output_type": "display_data"
    }
   ],
   "source": [
    ":- run_tests(dcg_coursework_hidden:unseen_11)."
   ]
  },
  {
   "cell_type": "code",
   "execution_count": 39,
   "id": "0be80432-a4e0-4437-9e77-8237a38bf518",
   "metadata": {
    "deletable": false,
    "editable": false,
    "nbgrader": {
     "cell_type": "code",
     "checksum": "e1f0e1dfcce6fedc39d17760f6989d61",
     "grade": true,
     "grade_id": "cell-e6f628d3a1042c78",
     "locked": true,
     "points": 2,
     "schema_version": 3,
     "solution": false,
     "task": false
    }
   },
   "outputs": [
    {
     "data": {
      "text/plain": [
       "% PL-Unit: dcg_coursework_hidden:unseen_12  done\n",
       "% No tests to run"
      ]
     },
     "metadata": {},
     "output_type": "display_data"
    },
    {
     "data": {
      "text/plain": [
       "\u001b[1mtrue"
      ]
     },
     "metadata": {},
     "output_type": "display_data"
    }
   ],
   "source": [
    ":- run_tests(dcg_coursework_hidden:unseen_12)."
   ]
  },
  {
   "cell_type": "code",
   "execution_count": 40,
   "id": "78a55a81-c979-4305-8c75-980a79bbd9f0",
   "metadata": {
    "deletable": false,
    "editable": false,
    "nbgrader": {
     "cell_type": "code",
     "checksum": "229fb63065a2759fe7c72a9b2316189f",
     "grade": true,
     "grade_id": "cell-6292ee78afb2f0c2",
     "locked": true,
     "points": 2,
     "schema_version": 3,
     "solution": false,
     "task": false
    }
   },
   "outputs": [
    {
     "data": {
      "text/plain": [
       "% PL-Unit: dcg_coursework_hidden:unseen_13  done\n",
       "% No tests to run"
      ]
     },
     "metadata": {},
     "output_type": "display_data"
    },
    {
     "data": {
      "text/plain": [
       "\u001b[1mtrue"
      ]
     },
     "metadata": {},
     "output_type": "display_data"
    }
   ],
   "source": [
    ":- run_tests(dcg_coursework_hidden:unseen_13)."
   ]
  },
  {
   "cell_type": "code",
   "execution_count": 41,
   "id": "7f508b90-47bc-45d2-a331-3406f59588e5",
   "metadata": {
    "deletable": false,
    "editable": false,
    "nbgrader": {
     "cell_type": "code",
     "checksum": "935040dc43c58c0ad408aacf9dd2ba36",
     "grade": true,
     "grade_id": "cell-dd5b877a42fa9c71",
     "locked": true,
     "points": 2,
     "schema_version": 3,
     "solution": false,
     "task": false
    }
   },
   "outputs": [
    {
     "data": {
      "text/plain": [
       "% PL-Unit: dcg_coursework_hidden:unseen_14  done\n",
       "% No tests to run"
      ]
     },
     "metadata": {},
     "output_type": "display_data"
    },
    {
     "data": {
      "text/plain": [
       "\u001b[1mtrue"
      ]
     },
     "metadata": {},
     "output_type": "display_data"
    }
   ],
   "source": [
    ":- run_tests(dcg_coursework_hidden:unseen_14)."
   ]
  },
  {
   "cell_type": "code",
   "execution_count": 42,
   "id": "f70e847e-4b93-47e4-874d-074f8c8b539c",
   "metadata": {
    "deletable": false,
    "editable": false,
    "nbgrader": {
     "cell_type": "code",
     "checksum": "e1c485f1df8cd40b91afa672dcbaedac",
     "grade": true,
     "grade_id": "cell-8ba6a2c22e0ccf11",
     "locked": true,
     "points": 2,
     "schema_version": 3,
     "solution": false,
     "task": false
    }
   },
   "outputs": [
    {
     "data": {
      "text/plain": [
       "% PL-Unit: dcg_coursework_hidden:unseen_15  done\n",
       "% No tests to run"
      ]
     },
     "metadata": {},
     "output_type": "display_data"
    },
    {
     "data": {
      "text/plain": [
       "\u001b[1mtrue"
      ]
     },
     "metadata": {},
     "output_type": "display_data"
    }
   ],
   "source": [
    ":- run_tests(dcg_coursework_hidden:unseen_15)."
   ]
  },
  {
   "cell_type": "code",
   "execution_count": 43,
   "id": "3b3ee2bd-780f-491f-932b-35a9831920e6",
   "metadata": {
    "deletable": false,
    "editable": false,
    "nbgrader": {
     "cell_type": "code",
     "checksum": "8d0b0692ebb269e67b95fc68de04c228",
     "grade": true,
     "grade_id": "cell-fe241d6b33f3d5d7",
     "locked": true,
     "points": 2,
     "schema_version": 3,
     "solution": false,
     "task": false
    }
   },
   "outputs": [
    {
     "data": {
      "text/plain": [
       "% PL-Unit: dcg_coursework_hidden:unseen_16  done\n",
       "% No tests to run"
      ]
     },
     "metadata": {},
     "output_type": "display_data"
    },
    {
     "data": {
      "text/plain": [
       "\u001b[1mtrue"
      ]
     },
     "metadata": {},
     "output_type": "display_data"
    }
   ],
   "source": [
    ":- run_tests(dcg_coursework_hidden:unseen_16)."
   ]
  },
  {
   "cell_type": "code",
   "execution_count": 44,
   "id": "55ee817c-b9fb-49f2-98ed-beba76e1d176",
   "metadata": {
    "deletable": false,
    "editable": false,
    "nbgrader": {
     "cell_type": "code",
     "checksum": "bddd1f60d8fb23f8f81d1a5b1d8113a1",
     "grade": true,
     "grade_id": "cell-6859ee4e79355ab0",
     "locked": true,
     "points": 2,
     "schema_version": 3,
     "solution": false,
     "task": false
    }
   },
   "outputs": [
    {
     "data": {
      "text/plain": [
       "% PL-Unit: dcg_coursework_hidden:unseen_17  done\n",
       "% No tests to run"
      ]
     },
     "metadata": {},
     "output_type": "display_data"
    },
    {
     "data": {
      "text/plain": [
       "\u001b[1mtrue"
      ]
     },
     "metadata": {},
     "output_type": "display_data"
    }
   ],
   "source": [
    ":- run_tests(dcg_coursework_hidden:unseen_17)."
   ]
  },
  {
   "cell_type": "code",
   "execution_count": 45,
   "id": "67eecc11-71df-42fe-a147-b4feb252e2cb",
   "metadata": {
    "deletable": false,
    "editable": false,
    "nbgrader": {
     "cell_type": "code",
     "checksum": "40b96485504a5f6df7b95187be2dd003",
     "grade": true,
     "grade_id": "cell-b79e31780231fc72",
     "locked": true,
     "points": 2,
     "schema_version": 3,
     "solution": false,
     "task": false
    }
   },
   "outputs": [
    {
     "data": {
      "text/plain": [
       "% PL-Unit: dcg_coursework_hidden:unseen_18  done\n",
       "% No tests to run"
      ]
     },
     "metadata": {},
     "output_type": "display_data"
    },
    {
     "data": {
      "text/plain": [
       "\u001b[1mtrue"
      ]
     },
     "metadata": {},
     "output_type": "display_data"
    }
   ],
   "source": [
    ":- run_tests(dcg_coursework_hidden:unseen_18)."
   ]
  },
  {
   "cell_type": "code",
   "execution_count": 46,
   "id": "37d7ac9c-f9bb-42b0-a0bb-4b4d103f6a2b",
   "metadata": {
    "deletable": false,
    "editable": false,
    "nbgrader": {
     "cell_type": "code",
     "checksum": "a952a607214e91aec15f1d10218553bb",
     "grade": true,
     "grade_id": "cell-0d2666db96052853",
     "locked": true,
     "points": 2,
     "schema_version": 3,
     "solution": false,
     "task": false
    }
   },
   "outputs": [
    {
     "data": {
      "text/plain": [
       "% PL-Unit: dcg_coursework_hidden:unseen_19  done\n",
       "% No tests to run"
      ]
     },
     "metadata": {},
     "output_type": "display_data"
    },
    {
     "data": {
      "text/plain": [
       "\u001b[1mtrue"
      ]
     },
     "metadata": {},
     "output_type": "display_data"
    }
   ],
   "source": [
    ":- run_tests(dcg_coursework_hidden:unseen_19)."
   ]
  },
  {
   "cell_type": "code",
   "execution_count": 47,
   "id": "17ee6e73-b4b9-4c58-8eb6-e22308834909",
   "metadata": {
    "deletable": false,
    "editable": false,
    "nbgrader": {
     "cell_type": "code",
     "checksum": "2a95de674b606f0e43a1b38217b1c2f4",
     "grade": true,
     "grade_id": "cell-fe199423a66be028",
     "locked": true,
     "points": 2,
     "schema_version": 3,
     "solution": false,
     "task": false
    }
   },
   "outputs": [
    {
     "data": {
      "text/plain": [
       "% PL-Unit: dcg_coursework_hidden:unseen_20  done\n",
       "% No tests to run"
      ]
     },
     "metadata": {},
     "output_type": "display_data"
    },
    {
     "data": {
      "text/plain": [
       "\u001b[1mtrue"
      ]
     },
     "metadata": {},
     "output_type": "display_data"
    }
   ],
   "source": [
    ":- run_tests(dcg_coursework_hidden:unseen_20)."
   ]
  }
 ],
 "metadata": {
  "kernelspec": {
   "display_name": "Prolog",
   "language": "prolog",
   "name": "prolog_kernel"
  },
  "language_info": {
   "codemirror_mode": "prolog",
   "file_extension": ".pl",
   "mimetype": "text/x-prolog",
   "name": "Prolog"
  }
 },
 "nbformat": 4,
 "nbformat_minor": 5
}
